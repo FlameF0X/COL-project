# Import required libraries
import discord
import asyncio
import nest_asyncio
import json
from llamaapi import LlamaAPI

# Set up the Discord client
intents = discord.Intents.default()
intents.message_content = True
intents.members = True  # To access member details
client = discord.Client(intents=intents)

# Initialize the Llama API with your token
llama = LlamaAPI("<YOUR_LLaMa_API_KEY>")

# Global dictionary to hold conversation history for each user
user_histories = {}

# Maximum length for conversation history to prevent overloading the API
MAX_HISTORY_LENGTH = 1000

# Source code link
source_code_link = "-# [Source Code - GitHub](<https://github.com/FlameF0X/COL-project>)"

# Function to gather server information
def get_server_info(guild):
    member_count = guild.member_count
    owner = guild.owner
    bots = [member for member in guild.members if member.bot]
    staff_roles = [role for role in guild.roles if role.name.lower() in ["admin", "moderator", "staff"]]
    staff = [member for member in guild.members if any(role in member.roles for role in staff_roles)]

    server_info = (
        f"Server Name: {guild.name}\n"
        f"Total Members: {member_count}\n"
        f"Server Owner: {owner}\n"
        f"Number of Bots: {len(bots)}\n"
        f"Staff/Moderators: {', '.join([member.display_name for member in staff]) if staff else 'None'}"
    )

    return server_info

# Function to build and manage user-specific conversation history
def update_user_history(user_id, user_input, bot_response):
    if user_id not in user_histories:
        user_histories[user_id] = []

    # Append the new conversation entries
    user_histories[user_id].append({"role": "user", "content": user_input})
    user_histories[user_id].append({"role": "assistant", "content": bot_response})

    # Ensure the history does not exceed MAX_HISTORY_LENGTH tokens
    if len(user_histories[user_id]) > MAX_HISTORY_LENGTH:
        user_histories[user_id] = user_histories[user_id][-MAX_HISTORY_LENGTH:]

# Function to clear user history when "goodbye" is detected
def clear_user_history(user_id):
    if user_id in user_histories:
        del user_histories[user_id]

# Function to chat with the bot using LlamaAPI
async def chat_with_bot(user_id, input_text, environment_info):
    # Build the API request with user history and new input
    messages = user_histories.get(user_id, [])
    messages.append({"role": "user", "content": f"{input_text} (Environment Info: {environment_info})"})

    api_request_json = {
        "messages": messages,
        "max_token": 500,
        "temperature": 0.7,
        "top_p": 1.0,
        "stream": False
    }

    # Execute the API request
    response = llama.run(api_request_json)

    # Get the assistant's response from the API
    bot_response = response.json()["choices"][0]["message"]["content"]

    # Update the conversation history with the new input and response
    update_user_history(user_id, input_text, bot_response)

    return bot_response

# Handle messages
@client.event
async def on_ready():
    print(f'Logged in as {client.user}')

@client.event
async def on_message(message):
    if message.author == client.user:
        return

    # Check if the bot is mentioned
    if client.user in message.mentions:
        user_input = message.content.replace(f"<@{client.user.id}>", "").strip()  # Remove the bot mention from the message
        user_id = str(message.author.id)  # Using author ID to track conversation per user
        guild = message.guild
        environment_info = f"Running in: Discord server '{guild.name}' in channel '{message.channel.name}'\n{get_server_info(guild)}"

        # Check if the message contains "goodbye" to reset the conversation history
        if "goodbye" in user_input.lower():
            clear_user_history(user_id)
            response = "Goodbye! Your conversation history has been cleared."
        else:
            # Get the response from the bot
            response = await chat_with_bot(user_id, user_input, environment_info)

        # Append the source code link and send the response
        response_with_link = f"{response}\n\n{source_code_link}"
        await message.channel.send(response_with_link)

# Function to run the bot
async def run_bot():
    await client.start('<YOUR_DISCORD_TOKEN>')  # Replace with your actual bot token

# Run the bot in the notebook's event loop
nest_asyncio.apply()
loop = asyncio.get_event_loop()
loop.run_until_complete(run_bot())
