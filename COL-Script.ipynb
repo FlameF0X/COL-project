# Import required libraries
import discord
from transformers import AutoModelForCausalLM, AutoTokenizer
import torch
import asyncio
import nest_asyncio

# Set up the Discord client
intents = discord.Intents.default()
intents.message_content = True
client = discord.Client(intents=intents)

# Load the pre-trained DialoGPT-large model and tokenizer
tokenizer = AutoTokenizer.from_pretrained("microsoft/DialoGPT-large")
model = AutoModelForCausalLM.from_pretrained("microsoft/DialoGPT-large")

# Chat history initialization
chat_history_ids = None
max_length = 1000  # Define a maximum length to prevent exceeding model token limits

# Source code link
source_code_link = "-# [Source Code - GitHub](<https://github.com/FlameF0X/COL-project>)"

# Function to chat with the bot
def chat_with_bot(input_text):
    global chat_history_ids

    # Encode the input and add special tokens
    input_ids = tokenizer.encode(input_text + tokenizer.eos_token, return_tensors="pt")

    # If chat history is None, initialize it with the current input
    if chat_history_ids is None:
        chat_history_ids = input_ids
    else:
        # Append new user input to the chat history
        chat_history_ids = torch.cat([chat_history_ids, input_ids], dim=-1)

        # Ensure that the chat history does not exceed the model's maximum length
        if chat_history_ids.shape[-1] > max_length:
            chat_history_ids = chat_history_ids[:, -max_length:]

    # Generate a response from the model
    response_ids = model.generate(chat_history_ids, max_length=max_length, pad_token_id=tokenizer.eos_token_id)

    # Decode the response
    response_text = tokenizer.decode(response_ids[:, chat_history_ids.shape[-1]:][0], skip_special_tokens=True)

    # Update chat history with the new response
    chat_history_ids = torch.cat([chat_history_ids, response_ids[:, chat_history_ids.shape[-1]:]], dim=-1)

    return response_text

# Handle messages
@client.event
async def on_ready():
    print(f'Logged in as {client.user}')

@client.event
async def on_message(message):
    if message.author == client.user:
        return

    if message.content.lower().startswith('!chat'):
        user_input = message.content[5:].strip()
        response = chat_with_bot(user_input)
        response_with_link = f"{response}\n\n{source_code_link}"
        await message.channel.send(response_with_link)

# Function to run the bot
async def run_bot():
    await client.start('YOUR_DISCORD_BOT_TOKEN')  # Replace with your actual bot token

# Run the bot in the notebook's event loop
nest_asyncio.apply()
loop = asyncio.get_event_loop()
loop.run_until_complete(run_bot())
