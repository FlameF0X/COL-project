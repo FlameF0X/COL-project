import discord
from transformers import AutoModelForCausalLM, AutoTokenizer
import torch

# Set up the Discord client
intents = discord.Intents.default()
intents.message_content = True
client = discord.Client(intents=intents)

# Load pre-trained model and tokenizer
model_name = "microsoft/DialoGPT-medium"
tokenizer = AutoTokenizer.from_pretrained(model_name)
model = AutoModelForCausalLM.from_pretrained(model_name)

# Function to generate a response
def generate_response(input_text, chat_history_ids=None):
    new_user_input_ids = tokenizer.encode(input_text + tokenizer.eos_token, return_tensors='pt')
    bot_input_ids = torch.cat([chat_history_ids, new_user_input_ids], dim=-1) if chat_history_ids is not None else new_user_input_ids
    chat_history_ids = model.generate(bot_input_ids, max_length=1000, pad_token_id=tokenizer.eos_token_id)
    chat_output = tokenizer.decode(chat_history_ids[:, bot_input_ids.shape[-1]:][0], skip_special_tokens=True)
    return chat_output, chat_history_ids

# Handle messages
@client.event
async def on_ready():
    print(f'Logged in as {client.user}')

@client.event
async def on_message(message):
    if message.author == client.user:
        return

    if message.content.lower().startswith('!chat'):
        user_input = message.content[5:].strip()
        response, chat_history_ids = generate_response(user_input)
        await message.channel.send(response)

# Run the bot
# client.run('YOUR_DISCORD_BOT_TOKEN') # Replace this line
await client.start('YOUR_DISCORD_BOT_TOKEN') # With this line
